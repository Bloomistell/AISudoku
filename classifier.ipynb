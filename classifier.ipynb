{
 "cells": [
  {
   "cell_type": "code",
   "execution_count": 1,
   "metadata": {},
   "outputs": [],
   "source": [
    "%load_ext autoreload\n",
    "%autoreload 2\n",
    "\n",
    "import time\n",
    "\n",
    "from sklearn.ensemble import RandomForestClassifier\n",
    "\n",
    "import numpy as np\n",
    "import pickle"
   ]
  },
  {
   "cell_type": "code",
   "execution_count": 2,
   "metadata": {},
   "outputs": [],
   "source": [
    "# loading data\n",
    "data = np.load('data/permutation_1_step_y_3m.npy')\n",
    "\n",
    "\n",
    "# reshaping data\n",
    "X = data.reshape(-1, 243)\n",
    "\n",
    "y = data.argmin(axis=2).max(axis=2)\n",
    "y_line = y[:, 0]\n",
    "y_column = y[:, 1]\n",
    "y_cell = y[:, 2]\n",
    "y_number = data[:, 0].argmin(axis=-1).max(axis=1)\n",
    "\n",
    "\n",
    "# splitting data\n",
    "X_train = X[:int(0.8 * len(X))]\n",
    "X_test = X[int(0.8 * len(X)):]\n",
    "\n",
    "y_line_train, y_line_test = y_line[:int(0.8 * len(y_line))], y_line[int(0.8 * len(y_line)):] \n",
    "y_column_train, y_column_test = y_column[:int(0.8 * len(y_column))], y_column[int(0.8 * len(y_column)):]\n",
    "y_cell_train, y_cell_test = y_cell[:int(0.8 * len(y_cell))], y_cell[int(0.8 * len(y_cell)):]\n",
    "y_number_train, y_number_test = y_number[:int(0.8 * len(y_number))], y_number[int(0.8 * len(y_number)):]"
   ]
  },
  {
   "cell_type": "code",
   "execution_count": 3,
   "metadata": {},
   "outputs": [
    {
     "name": "stdout",
     "output_type": "stream",
     "text": [
      "Training line classifier...\n"
     ]
    }
   ],
   "source": [
    "clf_line = RandomForestClassifier()\n",
    "clf_column = RandomForestClassifier()\n",
    "clf_cell = RandomForestClassifier()\n",
    "clf_number = RandomForestClassifier()\n",
    "\n",
    "clfs = ['line', 'column', 'cell', 'number']\n",
    "for clf in clfs:\n",
    "    print('Training', clf, 'classifier...')\n",
    "    if clf == 'line':\n",
    "        clf_line.fit(X_train, y_line_train)\n",
    "    elif clf == 'column':\n",
    "        clf_column.fit(X_train, y_column_train)\n",
    "    elif clf == 'cell':\n",
    "        clf_cell.fit(X_train, y_cell_train)\n",
    "    elif clf == 'number':\n",
    "        clf_number.fit(X_train, y_number_train)\n",
    "\n",
    "    print(clf, 'classifier trained.')\n",
    "\n",
    "    print('Testing', clf, 'classifier...')\n",
    "    if clf == 'line':\n",
    "        y_line_pred = clf_line.predict(X_test)\n",
    "        accuracy = np.mean(y_line_pred == y_line_test)\n",
    "    elif clf == 'column':\n",
    "        y_column_pred = clf_column.predict(X_test)\n",
    "        accuracy = np.mean(y_column_pred == y_column_test)\n",
    "    elif clf == 'cell':\n",
    "        y_cell_pred = clf_cell.predict(X_test)\n",
    "        accuracy = np.mean(y_cell_pred == y_cell_test)\n",
    "    elif clf == 'number':\n",
    "        y_number_pred = clf_number.predict(X_test)\n",
    "        accuracy = np.mean(y_number_pred == y_number_test)\n",
    "\n",
    "    print(clf, 'classifier accuracy:', accuracy)    "
   ]
  },
  {
   "cell_type": "code",
   "execution_count": null,
   "metadata": {},
   "outputs": [],
   "source": []
  }
 ],
 "metadata": {
  "kernelspec": {
   "display_name": "AISudoku",
   "language": "python",
   "name": "python3"
  },
  "language_info": {
   "codemirror_mode": {
    "name": "ipython",
    "version": 3
   },
   "file_extension": ".py",
   "mimetype": "text/x-python",
   "name": "python",
   "nbconvert_exporter": "python",
   "pygments_lexer": "ipython3",
   "version": "3.10.13"
  }
 },
 "nbformat": 4,
 "nbformat_minor": 2
}
