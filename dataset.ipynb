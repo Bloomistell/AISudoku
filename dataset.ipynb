{
 "cells": [
  {
   "cell_type": "code",
   "execution_count": 1,
   "metadata": {},
   "outputs": [],
   "source": [
    "%load_ext autoreload\n",
    "%autoreload 2\n",
    "\n",
    "import pandas as pd\n",
    "import numpy as np\n",
    "import scipy as sp\n",
    "import pickle\n",
    "\n",
    "from utils import *\n",
    "from sklearn.preprocessing import OneHotEncoder"
   ]
  },
  {
   "cell_type": "code",
   "execution_count": 2,
   "metadata": {},
   "outputs": [],
   "source": [
    "raw_dataset = pd.read_csv('data/sudoku-3m.csv')\n",
    "\n",
    "# columns: id, puzzle, solution, clues, difficulty\n",
    "# lignes: 1,\n",
    "#         1..5.37..6.3..8.9......98...1.......8761..........6...........7.8.9.76.47...6.312,\n",
    "#         198543726643278591527619843914735268876192435235486179462351987381927654759864312,\n",
    "#         27,\n",
    "#         2.2"
   ]
  },
  {
   "cell_type": "markdown",
   "metadata": {},
   "source": [
    "# One Hot Encoding "
   ]
  },
  {
   "cell_type": "markdown",
   "metadata": {},
   "source": [
    "## Preprocessing of input data **X**:"
   ]
  },
  {
   "cell_type": "code",
   "execution_count": 3,
   "metadata": {},
   "outputs": [
    {
     "name": "stdout",
     "output_type": "stream",
     "text": [
      "Vectorization done.\n",
      "Reshaping done.\n",
      "Fitting done.\n"
     ]
    }
   ],
   "source": [
    "# Function to replace '.' with 0 and convert to integers\n",
    "f = lambda x: np.array([0 if s == '.' else int(s) for s in x])\n",
    "\n",
    "# Apply the function to the 'puzzle' column\n",
    "vector_X = np.stack(raw_dataset.puzzle.apply(f).values)\n",
    "print('Vectorization done.')\n",
    "\n",
    "# Reshape for One-Hot Encoding\n",
    "vector_X = vector_X.reshape(-1, 1).astype(np.int8)\n",
    "print('Reshaping done.')\n",
    "\n",
    "# Initialize and fit the OneHotEncoder\n",
    "one_hot = OneHotEncoder(categories=[np.array([1, 2, 3, 4, 5, 6, 7, 8, 9])], handle_unknown='ignore')\n",
    "one_hot.fit(vector_X)\n",
    "print('Fitting done.')"
   ]
  },
  {
   "cell_type": "code",
   "execution_count": 4,
   "metadata": {},
   "outputs": [],
   "source": [
    "with open(\"data/encoder.pkl\", \"wb\") as f:\n",
    "    pickle.dump(one_hot, f)"
   ]
  },
  {
   "cell_type": "code",
   "execution_count": 5,
   "metadata": {},
   "outputs": [
    {
     "name": "stdout",
     "output_type": "stream",
     "text": [
      "Batch 1...\r"
     ]
    },
    {
     "name": "stdout",
     "output_type": "stream",
     "text": [
      "Transforming done.\n"
     ]
    }
   ],
   "source": [
    "one_hot_X_batches = np.array([], dtype=np.int8)\n",
    "for i in range(0, len(vector_X), 1_000_000):\n",
    "    print(f'Batch {i//1_000_000+1}...', end='\\r', flush=True)\n",
    "    tmp = one_hot.transform(vector_X[i:i+1_000_000]).toarray().astype(np.int8)\n",
    "    one_hot_X_batches = np.append(one_hot_X_batches, tmp)\n",
    "\n",
    "print('Transforming done.')"
   ]
  },
  {
   "cell_type": "code",
   "execution_count": 6,
   "metadata": {},
   "outputs": [
    {
     "name": "stdout",
     "output_type": "stream",
     "text": [
      "DONE!\n"
     ]
    }
   ],
   "source": [
    "array_X = one_hot_X_batches.reshape(-1, 729)\n",
    "print('DONE!')"
   ]
  },
  {
   "cell_type": "code",
   "execution_count": 7,
   "metadata": {},
   "outputs": [],
   "source": [
    "np.save('data/one_hot_X_3m.npy', array_X)"
   ]
  },
  {
   "cell_type": "markdown",
   "metadata": {},
   "source": [
    "## Preprocessing of target data **y**:"
   ]
  },
  {
   "cell_type": "code",
   "execution_count": 3,
   "metadata": {},
   "outputs": [
    {
     "name": "stdout",
     "output_type": "stream",
     "text": [
      "Vectorization done.\n"
     ]
    }
   ],
   "source": [
    "# Function to replace '.' with 0 and convert to integers\n",
    "f = lambda x: np.array([int(s)-1 for s in x])\n",
    "\n",
    "# Apply the function to the 'puzzle' column\n",
    "vector_y = np.stack(raw_dataset.solution.apply(f).values).astype(np.uint8)\n",
    "print('Vectorization done.')"
   ]
  },
  {
   "cell_type": "code",
   "execution_count": 7,
   "metadata": {},
   "outputs": [],
   "source": [
    "np.save('data/dense_y_3m.npy', vector_y)"
   ]
  },
  {
   "cell_type": "markdown",
   "metadata": {},
   "source": [
    "# Dense Representation"
   ]
  },
  {
   "cell_type": "markdown",
   "metadata": {},
   "source": [
    "## Preprocessing of input data **X**:"
   ]
  },
  {
   "cell_type": "code",
   "execution_count": 4,
   "metadata": {},
   "outputs": [
    {
     "name": "stdout",
     "output_type": "stream",
     "text": [
      "Vectorization done.\n",
      "Reshaping done.\n"
     ]
    }
   ],
   "source": [
    "# Function to replace '.' with 0 and convert to integers\n",
    "f = lambda x: np.array([0 if s == '.' else int(s) for s in x])\n",
    "\n",
    "# Apply the function to the 'puzzle' column\n",
    "vector_X = np.stack(raw_dataset.puzzle.apply(f).values)\n",
    "print('Vectorization done.')\n",
    "\n",
    "# Reshape for One-Hot Encoding\n",
    "dense_X = vector_X.reshape(-1, 81).astype(np.int8)/9\n",
    "print('Reshaping done.')\n",
    "\n",
    "# save data to file\n",
    "np.save('data/dense_X_30k.npy', dense_X)"
   ]
  },
  {
   "cell_type": "code",
   "execution_count": 60,
   "metadata": {},
   "outputs": [
    {
     "name": "stdout",
     "output_type": "stream",
     "text": [
      "Vectorization done.\n",
      "Reshaping done.\n"
     ]
    }
   ],
   "source": [
    "# Function to replace '.' with 0 and convert to integers\n",
    "f = lambda x: np.array([np.int8(s) for s in x])\n",
    "\n",
    "# Apply the function to the 'solution' column\n",
    "vector_y = np.stack(raw_dataset.solution.apply(f).values)\n",
    "print('Vectorization done.')\n",
    "\n",
    "# Reshape for One-Hot Encoding\n",
    "dense_y = vector_y.reshape(-1, 81)/9\n",
    "print('Reshaping done.')\n",
    "\n",
    "# save data to file\n",
    "np.save('data/dense_y_30k.npy', dense_y)"
   ]
  },
  {
   "cell_type": "markdown",
   "metadata": {},
   "source": [
    "# Custom Embedding"
   ]
  },
  {
   "cell_type": "markdown",
   "metadata": {},
   "source": [
    "## Preprocessing of input dada **X**:"
   ]
  },
  {
   "cell_type": "code",
   "execution_count": 4,
   "metadata": {},
   "outputs": [
    {
     "name": "stdout",
     "output_type": "stream",
     "text": [
      "Vectorization done.\n"
     ]
    }
   ],
   "source": [
    "# Function to replace '.' with 0 and convert to integers\n",
    "f = lambda x: np.array([0 if s == '.' else int(s) for s in x])\n",
    "\n",
    "# Apply the function to the 'puzzle' column\n",
    "vector_X = np.stack(raw_dataset.puzzle.apply(f).values)\n",
    "print('Vectorization done.')"
   ]
  },
  {
   "cell_type": "code",
   "execution_count": 24,
   "metadata": {},
   "outputs": [],
   "source": [
    "test_grid = vector_X[0]\n",
    "\n",
    "# cell\n",
    "cell_idx = [[i*3 + 18*(i//3) + j + 6*(j//3) for j in range(9)] for i in range(9)]\n",
    "cell = test_grid[cell_idx]\n",
    "\n",
    "# row\n",
    "row_idx = [[i*9 + j for j in range(9)] for i in range(9)]\n",
    "row = test_grid[row_idx]\n",
    "\n",
    "# column\n",
    "column_idx = [[i + j*9 for j in range(9)] for i in range(9)]\n",
    "column = test_grid[column_idx]"
   ]
  },
  {
   "cell_type": "code",
   "execution_count": null,
   "metadata": {},
   "outputs": [],
   "source": [
    "# make every combination of 9 numbers"
   ]
  },
  {
   "cell_type": "markdown",
   "metadata": {},
   "source": [
    "# Making the Sudokus so that they are at different solving steps"
   ]
  },
  {
   "cell_type": "code",
   "execution_count": 3,
   "metadata": {},
   "outputs": [],
   "source": [
    "def int_to_binary_list(number, num_bits=4):\n",
    "    return [bool((number >> i) & 1) for i in range(num_bits-1, -1, -1)]"
   ]
  },
  {
   "cell_type": "code",
   "execution_count": 4,
   "metadata": {},
   "outputs": [
    {
     "name": "stdout",
     "output_type": "stream",
     "text": [
      "Vectorization done.\n"
     ]
    }
   ],
   "source": [
    "# Function to replace '.' with 0 and convert to bools\n",
    "f = lambda x: np.array([True if s == '.' else False for s in x])\n",
    "\n",
    "# Apply the function to the 'puzzle' column\n",
    "min_X = np.stack(raw_dataset.puzzle.apply(f).values).reshape(-1, 81)\n",
    "print('Vectorization done.')"
   ]
  },
  {
   "cell_type": "code",
   "execution_count": 5,
   "metadata": {},
   "outputs": [
    {
     "name": "stdout",
     "output_type": "stream",
     "text": [
      "Vectorization done.\n"
     ]
    }
   ],
   "source": [
    "# Function to replace '.' with 0 and convert to integers\n",
    "f = lambda x: np.array([int_to_binary_list(np.uint8(s)) for s in x])\n",
    "\n",
    "# Apply the function to the 'puzzle' column\n",
    "bin_y = np.stack(raw_dataset.solution.apply(f).values).reshape(-1, 81, 4)\n",
    "print('Vectorization done.')"
   ]
  },
  {
   "cell_type": "code",
   "execution_count": 7,
   "metadata": {},
   "outputs": [],
   "source": [
    "np.save('data/bin_y_3m.npy', bin_y)"
   ]
  },
  {
   "cell_type": "code",
   "execution_count": 5,
   "metadata": {},
   "outputs": [],
   "source": [
    "bin_y = np.load('data/bin_y_3m.npy')"
   ]
  },
  {
   "cell_type": "code",
   "execution_count": 6,
   "metadata": {},
   "outputs": [],
   "source": [
    "del raw_dataset"
   ]
  },
  {
   "cell_type": "code",
   "execution_count": 7,
   "metadata": {},
   "outputs": [],
   "source": [
    "def clear_cell(arr, idx):\n",
    "    arr[idx] = [False, False, False, False]\n",
    "    return arr.copy()\n",
    "\n",
    "# min number of clues is 19 and max is 31\n",
    "remove_idx = np.stack([np.random.permutation([j for j in range(81) if min_X[i, j]])[:50] for i in range(len(min_X))])\n",
    "\n",
    "np.save('data/remove_idx_3m.npy', remove_idx)"
   ]
  },
  {
   "cell_type": "code",
   "execution_count": 8,
   "metadata": {},
   "outputs": [
    {
     "name": "stdout",
     "output_type": "stream",
     "text": [
      "0.33%...\r"
     ]
    },
    {
     "name": "stdout",
     "output_type": "stream",
     "text": [
      "65.67%...\r"
     ]
    },
    {
     "ename": "",
     "evalue": "",
     "output_type": "error",
     "traceback": [
      "\u001b[1;31mThe Kernel crashed while executing code in the the current cell or a previous cell. Please review the code in the cell(s) to identify a possible cause of the failure. Click <a href='https://aka.ms/vscodeJupyterKernelCrash'>here</a> for more info. View Jupyter <a href='command:jupyter.viewOutput'>log</a> for further details."
     ]
    }
   ],
   "source": [
    "bin_steps_X = []\n",
    "bin_steps_y = []\n",
    "\n",
    "for rem \n",
    "for i, cells in enumerate(remove_idx):\n",
    "\n",
    "    bin_steps_X += [clear_cell(bin_y[i], cell) for cell in cells]\n",
    "\n",
    "    if i % 10_000 == 0:\n",
    "        print(f'{100 * i / len(min_X):.2f}%...', end='\\r', flush=True)\n"
   ]
  },
  {
   "cell_type": "code",
   "execution_count": 5,
   "metadata": {},
   "outputs": [
    {
     "ename": "NameError",
     "evalue": "name 'steps_X' is not defined",
     "output_type": "error",
     "traceback": [
      "\u001b[0;31m---------------------------------------------------------------------------\u001b[0m",
      "\u001b[0;31mNameError\u001b[0m                                 Traceback (most recent call last)",
      "Cell \u001b[0;32mIn[5], line 2\u001b[0m\n\u001b[1;32m      1\u001b[0m \u001b[38;5;66;03m# save data to file\u001b[39;00m\n\u001b[0;32m----> 2\u001b[0m np\u001b[38;5;241m.\u001b[39msave(\u001b[38;5;124m'\u001b[39m\u001b[38;5;124mdata/steps_X_30k.npy\u001b[39m\u001b[38;5;124m'\u001b[39m, np\u001b[38;5;241m.\u001b[39marray(\u001b[43msteps_X\u001b[49m)\u001b[38;5;241m/\u001b[39m\u001b[38;5;241m9\u001b[39m)\n\u001b[1;32m      3\u001b[0m np\u001b[38;5;241m.\u001b[39msave(\u001b[38;5;124m'\u001b[39m\u001b[38;5;124mdata/steps_y_30k.npy\u001b[39m\u001b[38;5;124m'\u001b[39m, np\u001b[38;5;241m.\u001b[39marray(steps_y)\u001b[38;5;241m/\u001b[39m\u001b[38;5;241m9\u001b[39m)\n",
      "\u001b[0;31mNameError\u001b[0m: name 'steps_X' is not defined"
     ]
    }
   ],
   "source": [
    "# save data to file\n",
    "np.save('data/steps_X_30k.npy', np.array(steps_X)/9)\n",
    "np.save('data/steps_y_30k.npy', np.array(steps_y)/9)"
   ]
  },
  {
   "cell_type": "code",
   "execution_count": null,
   "metadata": {},
   "outputs": [],
   "source": []
  }
 ],
 "metadata": {
  "kernelspec": {
   "display_name": "AISudoku",
   "language": "python",
   "name": "python3"
  },
  "language_info": {
   "codemirror_mode": {
    "name": "ipython",
    "version": 3
   },
   "file_extension": ".py",
   "mimetype": "text/x-python",
   "name": "python",
   "nbconvert_exporter": "python",
   "pygments_lexer": "ipython3",
   "version": "3.10.13"
  }
 },
 "nbformat": 4,
 "nbformat_minor": 2
}
